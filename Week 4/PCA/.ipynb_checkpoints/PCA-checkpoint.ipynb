{
 "cells": [
  {
   "cell_type": "code",
   "execution_count": 2,
   "metadata": {
    "collapsed": true
   },
   "outputs": [],
   "source": [
    "import pandas as pd\n",
    "import numpy as np\n",
    "from sklearn.decomposition import PCA"
   ]
  },
  {
   "cell_type": "code",
   "execution_count": 3,
   "metadata": {
    "collapsed": false
   },
   "outputs": [
    {
     "data": {
      "text/html": [
       "<div>\n",
       "<table border=\"1\" class=\"dataframe\">\n",
       "  <thead>\n",
       "    <tr style=\"text-align: right;\">\n",
       "      <th></th>\n",
       "      <th>AXP</th>\n",
       "      <th>BA</th>\n",
       "      <th>CAT</th>\n",
       "      <th>CSCO</th>\n",
       "      <th>CVX</th>\n",
       "      <th>DD</th>\n",
       "      <th>DIS</th>\n",
       "      <th>GE</th>\n",
       "      <th>GS</th>\n",
       "      <th>HD</th>\n",
       "      <th>...</th>\n",
       "      <th>PFE</th>\n",
       "      <th>PG</th>\n",
       "      <th>T</th>\n",
       "      <th>TRV</th>\n",
       "      <th>UNH</th>\n",
       "      <th>UTX</th>\n",
       "      <th>V</th>\n",
       "      <th>VZ</th>\n",
       "      <th>WMT</th>\n",
       "      <th>XOM</th>\n",
       "    </tr>\n",
       "  </thead>\n",
       "  <tbody>\n",
       "    <tr>\n",
       "      <th>0</th>\n",
       "      <td>76.440002</td>\n",
       "      <td>117.510002</td>\n",
       "      <td>85.029999</td>\n",
       "      <td>24.270000</td>\n",
       "      <td>125.519997</td>\n",
       "      <td>59.409999</td>\n",
       "      <td>64.750000</td>\n",
       "      <td>24.280001</td>\n",
       "      <td>165.250000</td>\n",
       "      <td>75.910004</td>\n",
       "      <td>...</td>\n",
       "      <td>28.799999</td>\n",
       "      <td>79.279999</td>\n",
       "      <td>34.220001</td>\n",
       "      <td>86.379997</td>\n",
       "      <td>71.820000</td>\n",
       "      <td>109.419998</td>\n",
       "      <td>196.240005</td>\n",
       "      <td>47.980000</td>\n",
       "      <td>76.419998</td>\n",
       "      <td>87.750000</td>\n",
       "    </tr>\n",
       "    <tr>\n",
       "      <th>1</th>\n",
       "      <td>76.070000</td>\n",
       "      <td>119.000000</td>\n",
       "      <td>85.110001</td>\n",
       "      <td>24.139999</td>\n",
       "      <td>124.489998</td>\n",
       "      <td>59.319997</td>\n",
       "      <td>64.320000</td>\n",
       "      <td>24.320000</td>\n",
       "      <td>162.970001</td>\n",
       "      <td>76.040001</td>\n",
       "      <td>...</td>\n",
       "      <td>28.709999</td>\n",
       "      <td>78.620003</td>\n",
       "      <td>34.090000</td>\n",
       "      <td>85.870003</td>\n",
       "      <td>72.320000</td>\n",
       "      <td>110.000000</td>\n",
       "      <td>193.339996</td>\n",
       "      <td>47.270000</td>\n",
       "      <td>75.750000</td>\n",
       "      <td>87.360001</td>\n",
       "    </tr>\n",
       "    <tr>\n",
       "      <th>2</th>\n",
       "      <td>75.989998</td>\n",
       "      <td>118.510002</td>\n",
       "      <td>84.500000</td>\n",
       "      <td>24.430000</td>\n",
       "      <td>124.070000</td>\n",
       "      <td>59.319997</td>\n",
       "      <td>64.449997</td>\n",
       "      <td>24.230000</td>\n",
       "      <td>162.309998</td>\n",
       "      <td>75.519997</td>\n",
       "      <td>...</td>\n",
       "      <td>28.490000</td>\n",
       "      <td>77.720001</td>\n",
       "      <td>34.049999</td>\n",
       "      <td>85.980003</td>\n",
       "      <td>71.980003</td>\n",
       "      <td>109.260002</td>\n",
       "      <td>191.559998</td>\n",
       "      <td>46.950001</td>\n",
       "      <td>74.650002</td>\n",
       "      <td>87.139999</td>\n",
       "    </tr>\n",
       "    <tr>\n",
       "      <th>3</th>\n",
       "      <td>76.320000</td>\n",
       "      <td>119.379997</td>\n",
       "      <td>84.199997</td>\n",
       "      <td>23.770000</td>\n",
       "      <td>123.489998</td>\n",
       "      <td>59.509996</td>\n",
       "      <td>65.239998</td>\n",
       "      <td>24.250000</td>\n",
       "      <td>162.289993</td>\n",
       "      <td>76.070000</td>\n",
       "      <td>...</td>\n",
       "      <td>28.520000</td>\n",
       "      <td>78.050003</td>\n",
       "      <td>34.230000</td>\n",
       "      <td>85.830002</td>\n",
       "      <td>72.160004</td>\n",
       "      <td>109.660004</td>\n",
       "      <td>193.559998</td>\n",
       "      <td>47.669998</td>\n",
       "      <td>74.620003</td>\n",
       "      <td>87.070000</td>\n",
       "    </tr>\n",
       "    <tr>\n",
       "      <th>4</th>\n",
       "      <td>75.889999</td>\n",
       "      <td>118.739998</td>\n",
       "      <td>83.800003</td>\n",
       "      <td>23.330000</td>\n",
       "      <td>122.639999</td>\n",
       "      <td>59.009995</td>\n",
       "      <td>65.190002</td>\n",
       "      <td>24.049999</td>\n",
       "      <td>159.850006</td>\n",
       "      <td>75.959999</td>\n",
       "      <td>...</td>\n",
       "      <td>28.879999</td>\n",
       "      <td>77.209999</td>\n",
       "      <td>33.980000</td>\n",
       "      <td>85.410004</td>\n",
       "      <td>71.989998</td>\n",
       "      <td>109.360001</td>\n",
       "      <td>193.050003</td>\n",
       "      <td>47.000000</td>\n",
       "      <td>74.360001</td>\n",
       "      <td>86.900002</td>\n",
       "    </tr>\n",
       "  </tbody>\n",
       "</table>\n",
       "<p>5 rows × 30 columns</p>\n",
       "</div>"
      ],
      "text/plain": [
       "         AXP          BA        CAT       CSCO         CVX         DD  \\\n",
       "0  76.440002  117.510002  85.029999  24.270000  125.519997  59.409999   \n",
       "1  76.070000  119.000000  85.110001  24.139999  124.489998  59.319997   \n",
       "2  75.989998  118.510002  84.500000  24.430000  124.070000  59.319997   \n",
       "3  76.320000  119.379997  84.199997  23.770000  123.489998  59.509996   \n",
       "4  75.889999  118.739998  83.800003  23.330000  122.639999  59.009995   \n",
       "\n",
       "         DIS         GE          GS         HD    ...            PFE  \\\n",
       "0  64.750000  24.280001  165.250000  75.910004    ...      28.799999   \n",
       "1  64.320000  24.320000  162.970001  76.040001    ...      28.709999   \n",
       "2  64.449997  24.230000  162.309998  75.519997    ...      28.490000   \n",
       "3  65.239998  24.250000  162.289993  76.070000    ...      28.520000   \n",
       "4  65.190002  24.049999  159.850006  75.959999    ...      28.879999   \n",
       "\n",
       "          PG          T        TRV        UNH         UTX           V  \\\n",
       "0  79.279999  34.220001  86.379997  71.820000  109.419998  196.240005   \n",
       "1  78.620003  34.090000  85.870003  72.320000  110.000000  193.339996   \n",
       "2  77.720001  34.049999  85.980003  71.980003  109.260002  191.559998   \n",
       "3  78.050003  34.230000  85.830002  72.160004  109.660004  193.559998   \n",
       "4  77.209999  33.980000  85.410004  71.989998  109.360001  193.050003   \n",
       "\n",
       "          VZ        WMT        XOM  \n",
       "0  47.980000  76.419998  87.750000  \n",
       "1  47.270000  75.750000  87.360001  \n",
       "2  46.950001  74.650002  87.139999  \n",
       "3  47.669998  74.620003  87.070000  \n",
       "4  47.000000  74.360001  86.900002  \n",
       "\n",
       "[5 rows x 30 columns]"
      ]
     },
     "execution_count": 3,
     "metadata": {},
     "output_type": "execute_result"
    }
   ],
   "source": [
    "X_train = pd.read_csv('close_prices.csv')\n",
    "X_train.drop('date', axis=1, inplace=True)\n",
    "X_train.head()"
   ]
  },
  {
   "cell_type": "code",
   "execution_count": 4,
   "metadata": {
    "collapsed": false
   },
   "outputs": [
    {
     "data": {
      "text/html": [
       "<div>\n",
       "<table border=\"1\" class=\"dataframe\">\n",
       "  <thead>\n",
       "    <tr style=\"text-align: right;\">\n",
       "      <th></th>\n",
       "      <th>0</th>\n",
       "      <th>1</th>\n",
       "      <th>2</th>\n",
       "      <th>3</th>\n",
       "      <th>4</th>\n",
       "      <th>5</th>\n",
       "      <th>6</th>\n",
       "      <th>7</th>\n",
       "      <th>8</th>\n",
       "      <th>9</th>\n",
       "    </tr>\n",
       "  </thead>\n",
       "  <tbody>\n",
       "    <tr>\n",
       "      <th>0</th>\n",
       "      <td>-50.902404</td>\n",
       "      <td>-17.631677</td>\n",
       "      <td>-7.736021</td>\n",
       "      <td>2.596010</td>\n",
       "      <td>2.377569</td>\n",
       "      <td>4.244055</td>\n",
       "      <td>-12.883088</td>\n",
       "      <td>3.556570</td>\n",
       "      <td>-5.821974</td>\n",
       "      <td>-1.726040</td>\n",
       "    </tr>\n",
       "    <tr>\n",
       "      <th>1</th>\n",
       "      <td>-52.846909</td>\n",
       "      <td>-19.146907</td>\n",
       "      <td>-7.272546</td>\n",
       "      <td>4.618575</td>\n",
       "      <td>0.102182</td>\n",
       "      <td>3.935519</td>\n",
       "      <td>-11.062930</td>\n",
       "      <td>3.432599</td>\n",
       "      <td>-5.633181</td>\n",
       "      <td>-2.012232</td>\n",
       "    </tr>\n",
       "    <tr>\n",
       "      <th>2</th>\n",
       "      <td>-54.614439</td>\n",
       "      <td>-19.927358</td>\n",
       "      <td>-8.109958</td>\n",
       "      <td>4.920347</td>\n",
       "      <td>-0.421454</td>\n",
       "      <td>4.555335</td>\n",
       "      <td>-10.119224</td>\n",
       "      <td>4.175203</td>\n",
       "      <td>-5.388287</td>\n",
       "      <td>-2.752699</td>\n",
       "    </tr>\n",
       "    <tr>\n",
       "      <th>3</th>\n",
       "      <td>-52.600566</td>\n",
       "      <td>-19.941571</td>\n",
       "      <td>-6.948113</td>\n",
       "      <td>4.806243</td>\n",
       "      <td>0.319779</td>\n",
       "      <td>5.065505</td>\n",
       "      <td>-9.849605</td>\n",
       "      <td>3.266579</td>\n",
       "      <td>-5.974574</td>\n",
       "      <td>-1.922746</td>\n",
       "    </tr>\n",
       "    <tr>\n",
       "      <th>4</th>\n",
       "      <td>-52.370123</td>\n",
       "      <td>-22.289064</td>\n",
       "      <td>-8.410868</td>\n",
       "      <td>3.833372</td>\n",
       "      <td>-2.464882</td>\n",
       "      <td>4.359897</td>\n",
       "      <td>-7.988691</td>\n",
       "      <td>3.452709</td>\n",
       "      <td>-5.745204</td>\n",
       "      <td>-1.875131</td>\n",
       "    </tr>\n",
       "  </tbody>\n",
       "</table>\n",
       "</div>"
      ],
      "text/plain": [
       "           0          1         2         3         4         5          6  \\\n",
       "0 -50.902404 -17.631677 -7.736021  2.596010  2.377569  4.244055 -12.883088   \n",
       "1 -52.846909 -19.146907 -7.272546  4.618575  0.102182  3.935519 -11.062930   \n",
       "2 -54.614439 -19.927358 -8.109958  4.920347 -0.421454  4.555335 -10.119224   \n",
       "3 -52.600566 -19.941571 -6.948113  4.806243  0.319779  5.065505  -9.849605   \n",
       "4 -52.370123 -22.289064 -8.410868  3.833372 -2.464882  4.359897  -7.988691   \n",
       "\n",
       "          7         8         9  \n",
       "0  3.556570 -5.821974 -1.726040  \n",
       "1  3.432599 -5.633181 -2.012232  \n",
       "2  4.175203 -5.388287 -2.752699  \n",
       "3  3.266579 -5.974574 -1.922746  \n",
       "4  3.452709 -5.745204 -1.875131  "
      ]
     },
     "execution_count": 4,
     "metadata": {},
     "output_type": "execute_result"
    }
   ],
   "source": [
    "pca_transfromer = PCA(n_components=10)\n",
    "X_train_transformed = pd.DataFrame(pca_transfromer.fit_transform(X_train), columns=None)\n",
    "X_train_transformed.head()"
   ]
  },
  {
   "cell_type": "code",
   "execution_count": 5,
   "metadata": {
    "collapsed": false
   },
   "outputs": [
    {
     "name": "stdout",
     "output_type": "stream",
     "text": [
      "[ 0.73897118  0.11007169  0.04995088  0.0287492   0.02215448  0.01931577\n",
      "  0.00674853  0.00614091  0.00320594  0.00305611]\n"
     ]
    }
   ],
   "source": [
    "print(pca_transfromer.explained_variance_ratio_)\n",
    "first_component_weights = pca_transfromer.components_[0]"
   ]
  },
  {
   "cell_type": "code",
   "execution_count": 6,
   "metadata": {
    "collapsed": false
   },
   "outputs": [
    {
     "name": "stdout",
     "output_type": "stream",
     "text": [
      "4 components is enough to explain 90% of variance\n"
     ]
    },
    {
     "data": {
      "image/png": "[encoded data removed]",
      "text/plain": [
       "<matplotlib.figure.Figure at 0x114fc8f28>"
      ]
     },
     "metadata": {},
     "output_type": "display_data"
    }
   ],
   "source": [
    "variance_explained = []\n",
    "for n_comp in range(30):\n",
    "    pca_transfromer = PCA(n_components=n_comp+1)\n",
    "    pca_transfromer.fit(X_train)\n",
    "    variance_explained.append(pca_transfromer.explained_variance_ratio_.sum())\n",
    "    \n",
    "from matplotlib import pyplot as plt\n",
    "%matplotlib inline\n",
    "\n",
    "tmp = np.array(variance_explained)\n",
    "tmp[tmp < 0.90] = 1\n",
    "print('{} components is enough to explain 90% of variance'.format(\n",
    "        np.argmin(tmp) + 1))\n",
    "del tmp\n",
    "plt.figure(figsize=(10,5))\n",
    "plt.plot(variance_explained)\n",
    "plt.xlabel('Number of components')\n",
    "plt.ylabel('Variance')\n",
    "plt.show()"
   ]
  },
  {
   "cell_type": "code",
   "execution_count": 7,
   "metadata": {
    "collapsed": false
   },
   "outputs": [
    {
     "data": {
      "text/html": [
       "<div>\n",
       "<table border=\"1\" class=\"dataframe\">\n",
       "  <thead>\n",
       "    <tr style=\"text-align: right;\">\n",
       "      <th></th>\n",
       "      <th>^DJI</th>\n",
       "    </tr>\n",
       "  </thead>\n",
       "  <tbody>\n",
       "    <tr>\n",
       "      <th>0</th>\n",
       "      <td>15401.379883</td>\n",
       "    </tr>\n",
       "    <tr>\n",
       "      <th>1</th>\n",
       "      <td>15334.589844</td>\n",
       "    </tr>\n",
       "    <tr>\n",
       "      <th>2</th>\n",
       "      <td>15273.259766</td>\n",
       "    </tr>\n",
       "    <tr>\n",
       "      <th>3</th>\n",
       "      <td>15328.299805</td>\n",
       "    </tr>\n",
       "    <tr>\n",
       "      <th>4</th>\n",
       "      <td>15258.240234</td>\n",
       "    </tr>\n",
       "  </tbody>\n",
       "</table>\n",
       "</div>"
      ],
      "text/plain": [
       "           ^DJI\n",
       "0  15401.379883\n",
       "1  15334.589844\n",
       "2  15273.259766\n",
       "3  15328.299805\n",
       "4  15258.240234"
      ]
     },
     "execution_count": 7,
     "metadata": {},
     "output_type": "execute_result"
    }
   ],
   "source": [
    "index = pd.read_csv('djia_index.csv')\n",
    "index.drop('date', axis=1, inplace=True)\n",
    "index.head()"
   ]
  },
  {
   "cell_type": "code",
   "execution_count": 8,
   "metadata": {
    "collapsed": false
   },
   "outputs": [
    {
     "data": {
      "text/plain": [
       "0.90965221930502371"
      ]
     },
     "execution_count": 8,
     "metadata": {},
     "output_type": "execute_result"
    }
   ],
   "source": [
    "np.corrcoef(X_train_transformed[0].values, index['^DJI'].values)[0, 1]"
   ]
  },
  {
   "cell_type": "code",
   "execution_count": 9,
   "metadata": {
    "collapsed": false
   },
   "outputs": [
    {
     "name": "stdout",
     "output_type": "stream",
     "text": [
      "V has the largest weight = 0.579683945747361 in the first component\n"
     ]
    }
   ],
   "source": [
    "print('{} has the largest weight = {} '\n",
    "      'in the first component'.format(X_train.columns[np.argmax(first_component_weights)], \n",
    "                                                                     np.max(first_component_weights)))"
   ]
  }
 ],
 "metadata": {
  "kernelspec": {
   "display_name": "Python 3",
   "language": "python",
   "name": "python3"
  },
  "language_info": {
   "codemirror_mode": {
    "name": "ipython",
    "version": 3
   },
   "file_extension": ".py",
   "mimetype": "text/x-python",
   "name": "python",
   "nbconvert_exporter": "python",
   "pygments_lexer": "ipython3",
   "version": "3.5.1"
  }
 },
 "nbformat": 4,
 "nbformat_minor": 0
}
