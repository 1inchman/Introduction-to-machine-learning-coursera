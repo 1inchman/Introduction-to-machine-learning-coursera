{
 "cells": [
  {
   "cell_type": "code",
   "execution_count": 1,
   "metadata": {
    "collapsed": true
   },
   "outputs": [],
   "source": [
    "from sklearn.linear_model import Perceptron\n",
    "from sklearn.metrics import accuracy_score\n",
    "from sklearn.preprocessing import StandardScaler\n",
    "import pandas as pd"
   ]
  },
  {
   "cell_type": "code",
   "execution_count": 2,
   "metadata": {
    "collapsed": false
   },
   "outputs": [
    {
     "data": {
      "text/html": [
       "<div>\n",
       "<table border=\"1\" class=\"dataframe\">\n",
       "  <thead>\n",
       "    <tr style=\"text-align: right;\">\n",
       "      <th></th>\n",
       "      <th>-0.024625981431480627</th>\n",
       "      <th>1174.6002379573404</th>\n",
       "    </tr>\n",
       "  </thead>\n",
       "  <tbody>\n",
       "    <tr>\n",
       "      <th>0</th>\n",
       "      <td>-0.978058</td>\n",
       "      <td>1083.198803</td>\n",
       "    </tr>\n",
       "    <tr>\n",
       "      <th>1</th>\n",
       "      <td>0.314272</td>\n",
       "      <td>-1472.977609</td>\n",
       "    </tr>\n",
       "    <tr>\n",
       "      <th>2</th>\n",
       "      <td>0.179752</td>\n",
       "      <td>231.017267</td>\n",
       "    </tr>\n",
       "    <tr>\n",
       "      <th>3</th>\n",
       "      <td>-1.262544</td>\n",
       "      <td>-778.271726</td>\n",
       "    </tr>\n",
       "    <tr>\n",
       "      <th>4</th>\n",
       "      <td>0.249970</td>\n",
       "      <td>-52.801483</td>\n",
       "    </tr>\n",
       "    <tr>\n",
       "      <th>5</th>\n",
       "      <td>-1.870397</td>\n",
       "      <td>-324.235348</td>\n",
       "    </tr>\n",
       "    <tr>\n",
       "      <th>6</th>\n",
       "      <td>0.020419</td>\n",
       "      <td>-64.744951</td>\n",
       "    </tr>\n",
       "    <tr>\n",
       "      <th>7</th>\n",
       "      <td>0.065806</td>\n",
       "      <td>-421.684101</td>\n",
       "    </tr>\n",
       "    <tr>\n",
       "      <th>8</th>\n",
       "      <td>-0.638902</td>\n",
       "      <td>-405.843375</td>\n",
       "    </tr>\n",
       "    <tr>\n",
       "      <th>9</th>\n",
       "      <td>0.955832</td>\n",
       "      <td>-1057.055777</td>\n",
       "    </tr>\n",
       "  </tbody>\n",
       "</table>\n",
       "</div>"
      ],
      "text/plain": [
       "   -0.024625981431480627  1174.6002379573404\n",
       "0              -0.978058         1083.198803\n",
       "1               0.314272        -1472.977609\n",
       "2               0.179752          231.017267\n",
       "3              -1.262544         -778.271726\n",
       "4               0.249970          -52.801483\n",
       "5              -1.870397         -324.235348\n",
       "6               0.020419          -64.744951\n",
       "7               0.065806         -421.684101\n",
       "8              -0.638902         -405.843375\n",
       "9               0.955832        -1057.055777"
      ]
     },
     "execution_count": 2,
     "metadata": {},
     "output_type": "execute_result"
    }
   ],
   "source": [
    "data_train = pd.read_csv('perceptron-train.csv')\n",
    "data_test = pd.read_csv('perceptron-test.csv')\n",
    "target_train = data_train[data_train.columns[0]]\n",
    "data_train.drop(data_train.columns[0], axis=1, inplace=True)\n",
    "target_test = data_test[data_test.columns[0]]\n",
    "data_test.drop(data_test.columns[0], axis=1, inplace=True)\n",
    "data_train.head(10)"
   ]
  },
  {
   "cell_type": "code",
   "execution_count": 3,
   "metadata": {
    "collapsed": false,
    "scrolled": true
   },
   "outputs": [
    {
     "data": {
      "text/html": [
       "<div>\n",
       "<table border=\"1\" class=\"dataframe\">\n",
       "  <thead>\n",
       "    <tr style=\"text-align: right;\">\n",
       "      <th></th>\n",
       "      <th>1.651436537097151</th>\n",
       "      <th>1337.4538256412125</th>\n",
       "    </tr>\n",
       "  </thead>\n",
       "  <tbody>\n",
       "    <tr>\n",
       "      <th>0</th>\n",
       "      <td>-0.866495</td>\n",
       "      <td>1191.232457</td>\n",
       "    </tr>\n",
       "    <tr>\n",
       "      <th>1</th>\n",
       "      <td>0.789828</td>\n",
       "      <td>-475.647768</td>\n",
       "    </tr>\n",
       "    <tr>\n",
       "      <th>2</th>\n",
       "      <td>0.179549</td>\n",
       "      <td>1959.095353</td>\n",
       "    </tr>\n",
       "    <tr>\n",
       "      <th>3</th>\n",
       "      <td>-0.434351</td>\n",
       "      <td>568.504207</td>\n",
       "    </tr>\n",
       "    <tr>\n",
       "      <th>4</th>\n",
       "      <td>-1.506295</td>\n",
       "      <td>929.584470</td>\n",
       "    </tr>\n",
       "    <tr>\n",
       "      <th>5</th>\n",
       "      <td>-1.253881</td>\n",
       "      <td>-448.391638</td>\n",
       "    </tr>\n",
       "    <tr>\n",
       "      <th>6</th>\n",
       "      <td>-0.393311</td>\n",
       "      <td>-1109.230943</td>\n",
       "    </tr>\n",
       "    <tr>\n",
       "      <th>7</th>\n",
       "      <td>0.474347</td>\n",
       "      <td>-149.290942</td>\n",
       "    </tr>\n",
       "    <tr>\n",
       "      <th>8</th>\n",
       "      <td>-0.882829</td>\n",
       "      <td>-1793.888921</td>\n",
       "    </tr>\n",
       "    <tr>\n",
       "      <th>9</th>\n",
       "      <td>0.680072</td>\n",
       "      <td>380.219145</td>\n",
       "    </tr>\n",
       "  </tbody>\n",
       "</table>\n",
       "</div>"
      ],
      "text/plain": [
       "   1.651436537097151  1337.4538256412125\n",
       "0          -0.866495         1191.232457\n",
       "1           0.789828         -475.647768\n",
       "2           0.179549         1959.095353\n",
       "3          -0.434351          568.504207\n",
       "4          -1.506295          929.584470\n",
       "5          -1.253881         -448.391638\n",
       "6          -0.393311        -1109.230943\n",
       "7           0.474347         -149.290942\n",
       "8          -0.882829        -1793.888921\n",
       "9           0.680072          380.219145"
      ]
     },
     "execution_count": 3,
     "metadata": {},
     "output_type": "execute_result"
    }
   ],
   "source": [
    "data_test.head(10)"
   ]
  },
  {
   "cell_type": "markdown",
   "metadata": {},
   "source": [
    "## Non-scaled perceptron training"
   ]
  },
  {
   "cell_type": "code",
   "execution_count": 5,
   "metadata": {
    "collapsed": false
   },
   "outputs": [
    {
     "name": "stdout",
     "output_type": "stream",
     "text": [
      "Accyracy score on non-scaled data is 0.36180904522613067\n"
     ]
    }
   ],
   "source": [
    "clf = Perceptron(random_state=241)\n",
    "clf.fit(data_train, target_train)\n",
    "accuracy_nonscaled = accuracy_score(target_test, clf.predict(data_test))\n",
    "print('Accyracy score on non-scaled data is {}'.format(accuracy_nonscaled))"
   ]
  },
  {
   "cell_type": "markdown",
   "metadata": {},
   "source": [
    "## Scaled perceptron training "
   ]
  },
  {
   "cell_type": "code",
   "execution_count": 6,
   "metadata": {
    "collapsed": false
   },
   "outputs": [],
   "source": [
    "scaler = StandardScaler()\n",
    "data_train = scaler.fit_transform(data_train)\n",
    "data_test = scaler.transform(data_test)"
   ]
  },
  {
   "cell_type": "code",
   "execution_count": 8,
   "metadata": {
    "collapsed": false
   },
   "outputs": [
    {
     "name": "stdout",
     "output_type": "stream",
     "text": [
      "Accyracy score on scaled data is 0.9296482412060302\n"
     ]
    }
   ],
   "source": [
    "clf = Perceptron(random_state=241)\n",
    "clf.fit(data_train, target_train)\n",
    "accuracy_scaled = accuracy_score(target_test, clf.predict(data_test))\n",
    "print('Accyracy score on scaled data is {}'.format(accuracy_scaled))"
   ]
  },
  {
   "cell_type": "code",
   "execution_count": 9,
   "metadata": {
    "collapsed": false
   },
   "outputs": [
    {
     "name": "stdout",
     "output_type": "stream",
     "text": [
      "The answer is 0.5678391959798995\n"
     ]
    }
   ],
   "source": [
    "answer = accuracy_scaled - accuracy_nonscaled\n",
    "print(\"The answer is {}\".format(answer))"
   ]
  }
 ],
 "metadata": {
  "kernelspec": {
   "display_name": "Python 3",
   "language": "python",
   "name": "python3"
  },
  "language_info": {
   "codemirror_mode": {
    "name": "ipython",
    "version": 3
   },
   "file_extension": ".py",
   "mimetype": "text/x-python",
   "name": "python",
   "nbconvert_exporter": "python",
   "pygments_lexer": "ipython3",
   "version": "3.5.1"
  }
 },
 "nbformat": 4,
 "nbformat_minor": 0
}
