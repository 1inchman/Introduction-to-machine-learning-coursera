{
 "cells": [
  {
   "cell_type": "code",
   "execution_count": 1,
   "metadata": {
    "collapsed": true
   },
   "outputs": [],
   "source": [
    "import numpy as np"
   ]
  },
  {
   "cell_type": "code",
   "execution_count": 52,
   "metadata": {
    "collapsed": false
   },
   "outputs": [],
   "source": [
    "class LinearRegression:\n",
    "    def __init__(self, eta=0.1, n_iter=100, C=0, method='batch'):\n",
    "        self.eta_ = eta\n",
    "        self.n_iter_ = n_iter\n",
    "        self.C_ = C\n",
    "        self.method_ = method\n",
    "    \n",
    "    def _net_input(self, X):\n",
    "        return X @ self.w_[1:] + self.w_[0]\n",
    "    \n",
    "    def _loss_function(self, X, y):\n",
    "        return 1/(2*y.size) * np.power(self._net_input(X) - y, 2).sum()\n",
    "    \n",
    "    def fit(self, X, y):\n",
    "        self.errors_ = []\n",
    "        self.w_ = np.zeros(X.shape[1] + 1)\n",
    "        \n",
    "        if self.method_ == 'batch':\n",
    "            self._batch_gradient(X, y)\n",
    "     \n",
    "    def _batch_gradient(self, X, y):\n",
    "        for i in range(self.n_iter_):\n",
    "            self._batch_step(X, y)\n",
    "    \n",
    "    def _batch_step(self, X, y):\n",
    "        error = self._net_input(X) - y\n",
    "        self.w_[0] = self.w_[0] - self.eta_/y.size * error.sum()\n",
    "        self.w_[1:] = self.w_[1:] - self.eta_/y.size * X.T @ error\n",
    "        \n",
    "        self.errors_.append(self._loss_function(X, y))\n",
    "    \n",
    "    def predict(self, X):\n",
    "        return self._net_input(X)\n",
    "        "
   ]
  },
  {
   "cell_type": "code",
   "execution_count": 68,
   "metadata": {
    "collapsed": true
   },
   "outputs": [],
   "source": [
    "from sklearn.datasets import make_regression\n",
    "from sklearn.cross_validation import train_test_split\n",
    "from sklearn.metrics import r2_score\n",
    "\n",
    "X, y = make_regression(n_samples=400, n_features=1, n_informative=1, random_state=42, noise = 15)\n",
    "X_train, X_test, y_train, y_test = train_test_split(X, y)"
   ]
  },
  {
   "cell_type": "code",
   "execution_count": 69,
   "metadata": {
    "collapsed": false
   },
   "outputs": [
    {
     "name": "stdout",
     "output_type": "stream",
     "text": [
      "0.864224481458\n"
     ]
    }
   ],
   "source": [
    "clf = LinearRegression(n_iter=2000, eta=0.01)\n",
    "clf.fit(X_train, y_train)\n",
    "y_pred = clf.predict(X_test)\n",
    "print(r2_score(y_test, y_pred))"
   ]
  },
  {
   "cell_type": "code",
   "execution_count": 70,
   "metadata": {
    "collapsed": false
   },
   "outputs": [
    {
     "data": {
      "text/plain": [
       "[<matplotlib.lines.Line2D at 0x111400908>]"
      ]
     },
     "execution_count": 70,
     "metadata": {},
     "output_type": "execute_result"
    },
    {
     "data": {
      "image/png": "[encoded data removed]",
      "text/plain": [
       "<matplotlib.figure.Figure at 0x111203d68>"
      ]
     },
     "metadata": {},
     "output_type": "display_data"
    }
   ],
   "source": [
    "from matplotlib import pyplot as plt\n",
    "%matplotlib inline\n",
    "\n",
    "plt.scatter(X_train, y_train, color='red')\n",
    "plt.scatter(X_test, y_test, color='green')\n",
    "plt.plot(np.linspace(-3, 4, 100), clf.w_[0] + clf.w_[1] * np.linspace(-3, 4, 100))"
   ]
  },
  {
   "cell_type": "code",
   "execution_count": 71,
   "metadata": {
    "collapsed": false
   },
   "outputs": [
    {
     "data": {
      "text/plain": [
       "[<matplotlib.lines.Line2D at 0x1115054a8>]"
      ]
     },
     "execution_count": 71,
     "metadata": {},
     "output_type": "execute_result"
    },
    {
     "data": {
      "image/png": "[encoded data removed]",
      "text/plain": [
       "<matplotlib.figure.Figure at 0x1112bb9e8>"
      ]
     },
     "metadata": {},
     "output_type": "display_data"
    }
   ],
   "source": [
    "plt.plot(clf.errors_)"
   ]
  },
  {
   "cell_type": "code",
   "execution_count": null,
   "metadata": {
    "collapsed": true
   },
   "outputs": [],
   "source": []
  }
 ],
 "metadata": {
  "kernelspec": {
   "display_name": "Python 3",
   "language": "python",
   "name": "python3"
  },
  "language_info": {
   "codemirror_mode": {
    "name": "ipython",
    "version": 3
   },
   "file_extension": ".py",
   "mimetype": "text/x-python",
   "name": "python",
   "nbconvert_exporter": "python",
   "pygments_lexer": "ipython3",
   "version": "3.5.1"
  }
 },
 "nbformat": 4,
 "nbformat_minor": 0
}
