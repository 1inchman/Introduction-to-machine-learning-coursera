{
 "cells": [
  {
   "cell_type": "code",
   "execution_count": 1,
   "metadata": {
    "collapsed": false
   },
   "outputs": [],
   "source": [
    "import pandas as pd\n",
    "import numpy as np\n",
    "from sklearn.metrics import accuracy_score, precision_score, recall_score, f1_score, roc_auc_score, precision_recall_curve"
   ]
  },
  {
   "cell_type": "code",
   "execution_count": 2,
   "metadata": {
    "collapsed": false
   },
   "outputs": [
    {
     "data": {
      "text/html": [
       "<div>\n",
       "<table border=\"1\" class=\"dataframe\">\n",
       "  <thead>\n",
       "    <tr style=\"text-align: right;\">\n",
       "      <th></th>\n",
       "      <th>true</th>\n",
       "      <th>pred</th>\n",
       "    </tr>\n",
       "  </thead>\n",
       "  <tbody>\n",
       "    <tr>\n",
       "      <th>0</th>\n",
       "      <td>1</td>\n",
       "      <td>0</td>\n",
       "    </tr>\n",
       "    <tr>\n",
       "      <th>1</th>\n",
       "      <td>1</td>\n",
       "      <td>1</td>\n",
       "    </tr>\n",
       "    <tr>\n",
       "      <th>2</th>\n",
       "      <td>1</td>\n",
       "      <td>1</td>\n",
       "    </tr>\n",
       "    <tr>\n",
       "      <th>3</th>\n",
       "      <td>0</td>\n",
       "      <td>0</td>\n",
       "    </tr>\n",
       "    <tr>\n",
       "      <th>4</th>\n",
       "      <td>1</td>\n",
       "      <td>1</td>\n",
       "    </tr>\n",
       "  </tbody>\n",
       "</table>\n",
       "</div>"
      ],
      "text/plain": [
       "   true  pred\n",
       "0     1     0\n",
       "1     1     1\n",
       "2     1     1\n",
       "3     0     0\n",
       "4     1     1"
      ]
     },
     "execution_count": 2,
     "metadata": {},
     "output_type": "execute_result"
    }
   ],
   "source": [
    "classification_csv = pd.read_csv('classification.csv')\n",
    "classification_csv.head()"
   ]
  },
  {
   "cell_type": "code",
   "execution_count": 3,
   "metadata": {
    "collapsed": false
   },
   "outputs": [
    {
     "name": "stdout",
     "output_type": "stream",
     "text": [
      "          Class 1  Class 0\n",
      "a(x) = 1     43.0     34.0\n",
      "a(x) = 0     59.0     64.0\n"
     ]
    }
   ],
   "source": [
    "confusion_matrix = np.zeros((2, 2))\n",
    "for y_pred, y_real in zip(classification_csv['pred'], classification_csv['true']):\n",
    "    if y_pred == 1 and y_real == 1:\n",
    "        confusion_matrix[0, 0] += 1\n",
    "    \n",
    "    if y_pred == 0 and y_real == 0:\n",
    "        confusion_matrix[1, 1] += 1\n",
    "    \n",
    "    if y_pred == 1 and y_real == 0:\n",
    "        confusion_matrix[0, 1] += 1\n",
    "    \n",
    "    if y_pred == 0 and y_real == 1:\n",
    "        confusion_matrix[1, 0] += 1\n",
    "\n",
    "print(pd.DataFrame(confusion_matrix, index=['a(x) = 1', 'a(x) = 0'], columns=['Class 1', 'Class 0']))"
   ]
  },
  {
   "cell_type": "code",
   "execution_count": 4,
   "metadata": {
    "collapsed": false
   },
   "outputs": [
    {
     "data": {
      "image/png": "[encoded data removed]",
      "text/plain": [
       "<matplotlib.figure.Figure at 0x11205aba8>"
      ]
     },
     "metadata": {},
     "output_type": "display_data"
    }
   ],
   "source": [
    "from matplotlib import pyplot as plt\n",
    "%matplotlib inline\n",
    "\n",
    "plt.imshow(confusion_matrix, interpolation='nearest', cmap=plt.cm.Blues)\n",
    "plt.colorbar()\n",
    "plt.show()"
   ]
  },
  {
   "cell_type": "code",
   "execution_count": 5,
   "metadata": {
    "collapsed": false
   },
   "outputs": [
    {
     "name": "stdout",
     "output_type": "stream",
     "text": [
      "Accuracy: 0.535 \n",
      "Precision: 0.5584415584415584 \n",
      "Recall: 0.4215686274509804 \n",
      "F1: 0.48044692737430167\n"
     ]
    }
   ],
   "source": [
    "acc = accuracy_score(classification_csv['true'], classification_csv['pred'])\n",
    "precision = precision_score(classification_csv['true'], classification_csv['pred'])\n",
    "recall = recall_score(classification_csv['true'], classification_csv['pred'])\n",
    "f1 = f1_score(classification_csv['true'], classification_csv['pred'])\n",
    "\n",
    "print('Accuracy: {} \\nPrecision: {} \\nRecall: {} \\nF1: {}'.format(acc, precision, recall, f1))"
   ]
  },
  {
   "cell_type": "code",
   "execution_count": 6,
   "metadata": {
    "collapsed": false
   },
   "outputs": [
    {
     "data": {
      "text/html": [
       "<div>\n",
       "<table border=\"1\" class=\"dataframe\">\n",
       "  <thead>\n",
       "    <tr style=\"text-align: right;\">\n",
       "      <th></th>\n",
       "      <th>true</th>\n",
       "      <th>score_logreg</th>\n",
       "      <th>score_svm</th>\n",
       "      <th>score_knn</th>\n",
       "      <th>score_tree</th>\n",
       "    </tr>\n",
       "  </thead>\n",
       "  <tbody>\n",
       "    <tr>\n",
       "      <th>0</th>\n",
       "      <td>0</td>\n",
       "      <td>0.683832</td>\n",
       "      <td>0.145976</td>\n",
       "      <td>0.787063</td>\n",
       "      <td>0.500000</td>\n",
       "    </tr>\n",
       "    <tr>\n",
       "      <th>1</th>\n",
       "      <td>1</td>\n",
       "      <td>0.801966</td>\n",
       "      <td>0.239511</td>\n",
       "      <td>1.000000</td>\n",
       "      <td>0.833333</td>\n",
       "    </tr>\n",
       "    <tr>\n",
       "      <th>2</th>\n",
       "      <td>0</td>\n",
       "      <td>0.382315</td>\n",
       "      <td>-0.245701</td>\n",
       "      <td>0.000000</td>\n",
       "      <td>0.000000</td>\n",
       "    </tr>\n",
       "    <tr>\n",
       "      <th>3</th>\n",
       "      <td>1</td>\n",
       "      <td>0.506797</td>\n",
       "      <td>-0.137058</td>\n",
       "      <td>0.000000</td>\n",
       "      <td>0.105263</td>\n",
       "    </tr>\n",
       "    <tr>\n",
       "      <th>4</th>\n",
       "      <td>1</td>\n",
       "      <td>0.488781</td>\n",
       "      <td>-0.154148</td>\n",
       "      <td>0.000000</td>\n",
       "      <td>0.105263</td>\n",
       "    </tr>\n",
       "  </tbody>\n",
       "</table>\n",
       "</div>"
      ],
      "text/plain": [
       "   true  score_logreg  score_svm  score_knn  score_tree\n",
       "0     0      0.683832   0.145976   0.787063    0.500000\n",
       "1     1      0.801966   0.239511   1.000000    0.833333\n",
       "2     0      0.382315  -0.245701   0.000000    0.000000\n",
       "3     1      0.506797  -0.137058   0.000000    0.105263\n",
       "4     1      0.488781  -0.154148   0.000000    0.105263"
      ]
     },
     "execution_count": 6,
     "metadata": {},
     "output_type": "execute_result"
    }
   ],
   "source": [
    "scores_csv = pd.read_csv('scores.csv')\n",
    "scores_csv.head()"
   ]
  },
  {
   "cell_type": "code",
   "execution_count": 7,
   "metadata": {
    "collapsed": false
   },
   "outputs": [
    {
     "name": "stdout",
     "output_type": "stream",
     "text": [
      "Algorithm is logreg, ROC AUC score is 0.719187675070028 \n",
      "\n",
      "Algorithm is svm, ROC AUC score is 0.7086834733893557 \n",
      "\n",
      "Algorithm is knn, ROC AUC score is 0.6351540616246498 \n",
      "\n",
      "Algorithm is tree, ROC AUC score is 0.6919267707082833 \n",
      "\n",
      "Max score is 0.719187675070028 for algorithm logreg\n",
      "Max precision is 0.6517857142857143 for algorithm score_tree\n"
     ]
    }
   ],
   "source": [
    "max_score = 0\n",
    "max_prec = 0\n",
    "for score in scores_csv.columns[1:]:\n",
    "    tmp = roc_auc_score(scores_csv['true'], scores_csv[score])\n",
    "    if tmp > max_score:\n",
    "        max_score = tmp\n",
    "        label = score.split('_')[1]\n",
    "    print('Algorithm is {}, ROC AUC score is {} \\n'.format(score.split('_')[1], \n",
    "                                                           tmp))\n",
    "    \n",
    "    precs, recs, _ = precision_recall_curve(scores_csv['true'], scores_csv[score])\n",
    "    tmp_prec = np.max(precs[recs>=0.70])\n",
    "    if tmp_prec > max_prec:\n",
    "        max_prec = tmp_prec\n",
    "        prec_label = score\n",
    "\n",
    "print('Max score is {} for algorithm {}'.format(max_score, label))\n",
    "print('Max precision is {} for algorithm {}'.format(max_prec, prec_label))"
   ]
  }
 ],
 "metadata": {
  "kernelspec": {
   "display_name": "Python 3",
   "language": "python",
   "name": "python3"
  },
  "language_info": {
   "codemirror_mode": {
    "name": "ipython",
    "version": 3
   },
   "file_extension": ".py",
   "mimetype": "text/x-python",
   "name": "python",
   "nbconvert_exporter": "python",
   "pygments_lexer": "ipython3",
   "version": "3.5.1"
  }
 },
 "nbformat": 4,
 "nbformat_minor": 0
}
